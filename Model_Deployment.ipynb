# import packages
import numpy as np
import pandas as pd
from sklearn.model_selection import train_test_split
from sklearn.linear_model import LinearRegression
import pickle
from sklearn.metrics import r2_score

#load dataset
dataset = pd.read_csv('data/salary_data.csv')

# split data into features and target
X = dataset.iloc[:, :-1].values
y = dataset.iloc[:, 1].values

#split the data into train and test set
X_train, X_test, y_train, y_test = train_test_split(X, y, test_size = 0.05, random_state = 0)

# create a model
regressor = LinearRegression()

#train the model
regressor.fit(X_train, y_train)

#perform prediction
y_pred = regressor.predict(X_test)

# you can check the peformance of the model from the following code
#print("R2 score: {}".format(r2_score(y_test,y_pred)))

#save the trained model
pickle.dump(regressor, open('models/regressor.pkl','wb'))
# We are going to request the server for the predictions.

#import  packages
import requests

#set url for localhost
url = 'http://localhost:5000/api'

# you can use the url when deployed in the online server
url2 = "http://djangoposts.pythonanywhere.com/api"

#send request
experince = input("write year of experience:")

r = requests.post(url2,json={'exp':float(experince),})

#print result
print("Your salaray is $ {}".format(r.json()))
#In this file, we will use the flask web framework to handle the POST requests that we will get from the request.py and from HTML file

#import packages
import os
import numpy as np
import flask
from flask import Flask, request, jsonify,  render_template
import pickle

app = Flask(__name__)

model = pickle.load(open('models/regressor.pkl','rb'))

#to tell flask what url shoud trigger the function index()
@app.route('/')
@app.route('/index')
def index():

    return flask.render_template('index.html')


# get data from the html form and perform prediction
@app.route('/result',methods = ['POST'])
def result():
	if request.method == 'POST':
		data = request.form['year']
		input = float(data)

		# convert the data into numpy array and perform prediction
		prediction = model.predict([[np.array(input)]])
		output = prediction[0]

		# round output into two decimals
		output = round(output, 2)

		return render_template("result.html", prediction=output, years = data)


# get data from script file and perfrom prediction
@app.route('/api',methods=['POST'])
def predict():

	#get the data in json format
	data = request.get_json(force=True)

	#convert the data into numpy array and perform prediction
	prediction = model.predict([[np.array(data['exp'])]])
	output = prediction[0]

	#return result in json format
	return jsonify(output)


# set port into 5000 and debug is True
if __name__ == '__main__':
	app.run(port=5000, debug=True)
<html>
<head>
    <title>Salary Prediction</title>
  <meta charset="utf-8">
  <meta name="viewport" content="width=device-width, initial-scale=1">
  <link rel="stylesheet" href="https://maxcdn.bootstrapcdn.com/bootstrap/3.4.0/css/bootstrap.min.css">
  <script src="https://ajax.googleapis.com/ajax/libs/jquery/3.4.0/jquery.min.js"></script>
  <script src="https://maxcdn.bootstrapcdn.com/bootstrap/3.4.0/js/bootstrap.min.js"></script>
</head>
<body>
  <div class="container col-md-5">
    
    <h3 class="text-center">My Salary Prediction Form</h3>

<div class="text-center">
  <form action="/result" method="POST">
        <div class="form-group">
      <label for="year">Year of Experience:</label>
      <input type="text" class="form-control" id="year" name="year" placeholder="Enter number of years">
    </div>
    <br>
      <button type="submit" class="btn btn-primary">Submit</button>
  </form>
</div>
</div>
</body>
</html>
<html>
<head>
    <title>Salary Prediction</title>
  <meta charset="utf-8">
  <meta name="viewport" content="width=device-width, initial-scale=1">
  <link rel="stylesheet" href="https://maxcdn.bootstrapcdn.com/bootstrap/3.4.0/css/bootstrap.min.css">
  <script src="https://ajax.googleapis.com/ajax/libs/jquery/3.4.0/jquery.min.js"></script>
  <script src="https://maxcdn.bootstrapcdn.com/bootstrap/3.4.0/js/bootstrap.min.js"></script>
</head>
   <body>
       <h1 class="text-center">My salary for {{years}} years of experience will be $ {{ prediction }}</h1>
        <h3 class="text-center"><a href="/" class="btn btn-lg btn-primary" title="">Try Again</a></h3>

   </body>
</html>